{
 "cells": [
  {
   "cell_type": "code",
   "execution_count": 62,
   "metadata": {},
   "outputs": [],
   "source": [
    "from dotenv import load_dotenv\n",
    "from agents import Agent, Runner, trace, function_tool\n",
    "from openai.types.responses import ResponseTextDeltaEvent\n",
    "from typing import Dict\n",
    "import sendgrid\n",
    "import os\n",
    "from sendgrid.helpers.mail import Mail, Email, To, Content\n",
    "import asyncio\n",
    "\n"
   ]
  },
  {
   "cell_type": "code",
   "execution_count": 63,
   "metadata": {},
   "outputs": [
    {
     "data": {
      "text/plain": [
       "True"
      ]
     },
     "execution_count": 63,
     "metadata": {},
     "output_type": "execute_result"
    }
   ],
   "source": [
    "load_dotenv(override=True)"
   ]
  },
  {
   "cell_type": "code",
   "execution_count": 64,
   "metadata": {},
   "outputs": [],
   "source": [
    "instructions1 = \"\"\"\n",
    "You are a sales agent representing VisexaAI.\n",
    "Company Summary:\n",
    "In a world brimming with data, the true potential lies not in generic tools, but in bespoke intelligence. At Visexa AI, we see Artificial Intelligence as a collaborative canvas. Our mission is to work hand-in-hand with businesses like yours, transforming your unique challenges into custom-built AI solutions that unlock productivity and drive growth.\n",
    "\n",
    "Our journey began with a powerful vision: to move beyond one-size-fits-all solutions. The team at Visexa is composed of passionate innovators, data scientists, and business strategists dedicated to a partnership model. We don't just sell AI; we build it with you, for you.\n",
    "\n",
    "Our Collaborative Approach\n",
    "\n",
    "Your business is unique, and your AI should be too. At Visexa AI, we don't offer off-the-shelf products. Instead, we start with a conversation. We dive deep into your workflows, goals, and pain points to co-create intelligent solutions that fit seamlessly into your operations. Our process is built on:\n",
    "\n",
    "Deep Discovery & Consultation: We listen and learn to understand the intricacies of your business.\n",
    "\n",
    "Custom Solution Architecture: We design and build AI systems—from intelligent automation to predictive analytics—specifically tailored to your needs.\n",
    "\n",
    "Seamless Integration & Support: We ensure your custom solution integrates perfectly with your existing systems and partner with you for ongoing success.\n",
    "\n",
    "Our Philosophy\n",
    "\n",
    "We are your dedicated partners in innovation. Our success is measured by the real-world results we deliver through solutions born from collaboration. We believe the most powerful AI is the AI you help create.\n",
    "Your role is to write professional, serious cold emails to people of different domains to invite them for a chat with the CEO of Visexa AI and talk how to we can utilize AI to solve the problems or enhance the existing solutions.\n",
    "\"\"\"\n",
    "\n",
    "instructions2 = \"\"\" \n",
    "You're a passionate sales agent for VisexaAI, excited about the future of AI!\n",
    "\n",
    "Company Snapshot:\n",
    "At Visexa AI, we're not just another AI company—we're your innovation partners! We believe the best AI solutions come from collaboration, not cookie-cutter approaches. Our team of brilliant data scientists, innovators, and business strategists work alongside you to create custom AI solutions that actually solve your real problems.\n",
    "\n",
    "What makes us special? We start with YOU. We dive into your world, understand your challenges, and co-create intelligent solutions that fit like a glove. Whether it's smart automation, predictive analytics, or something entirely new, we build it together.\n",
    "\n",
    "Our Promise:\n",
    "• We listen first, build second\n",
    "• Every solution is custom-made for your business\n",
    "• We're with you every step of the way\n",
    "• Real results, not just promises\n",
    "\n",
    "Your mission: Reach out to business leaders with warm, engaging emails that spark curiosity about how AI can transform their operations. Invite them for a chat with our CEO to explore exciting possibilities!\n",
    "\n",
    "\"\"\"\n",
    "\n",
    "instructions3 = \"\"\" \n",
    "You are a busy sales agent working for VisexaAI.\n",
    "\n",
    "Company Overview:\n",
    "Visexa AI creates custom AI solutions through partnership. We don't do off-the-shelf—we build bespoke AI systems that solve your specific business challenges. Our team of data scientists and strategists work directly with you to design, develop, and deploy intelligent solutions.\n",
    "\n",
    "Process: Discovery → Custom Build → Integration → Support\n",
    "\n",
    "Your task: Write concise, professional cold emails to business leaders, inviting them to discuss AI opportunities with our CEO.\n",
    "\"\"\""
   ]
  },
  {
   "cell_type": "code",
   "execution_count": 65,
   "metadata": {},
   "outputs": [],
   "source": [
    "## Now create agents\n",
    "sales_agent1 = Agent(name=\"Sales Agent 1\", instructions=instructions1, model=\"gpt-4o-mini\")\n",
    "sales_agent2 = Agent(name=\"Sales Agent 2\", instructions=instructions2, model=\"gpt-4o-mini\")\n",
    "sales_agent3 = Agent(name=\"Sales Agent 3\", instructions=instructions3, model=\"gpt-4o-mini\")\n"
   ]
  },
  {
   "cell_type": "code",
   "execution_count": 66,
   "metadata": {},
   "outputs": [],
   "source": [
    "target_role = \"Audit Head\"\n",
    "company_name = \"Plymouth Rock Insurance\"\n",
    "industry = \"Auditing\"\n",
    "\n",
    "from_role = \"Sales Head\"\n",
    "from_name = \"John Smith\"\n",
    "from_email = \"johnsmith@visexa.com\"\n",
    "\n",
    "message = f\"\"\" Write a cold email addressed to Dear {target_role} at {company_name} in {industry} from  {from_role} ({from_email}) that would get a response. Only give the body of the email., no subject line.\n",
    "\n",
    "Key points to cover:\n",
    "- Time savings through AI automation\n",
    "- Cost reduction via intelligent optimization\n",
    "- Custom AI enhancement of existing solutions\n",
    "\n",
    "Keep it short and actionable. Invite for CEO discussion on AI opportunities. \"\"\""
   ]
  },
  {
   "cell_type": "code",
   "execution_count": 67,
   "metadata": {},
   "outputs": [
    {
     "name": "stdout",
     "output_type": "stream",
     "text": [
      "Dear Audit Head,\n",
      "\n",
      "I hope this message finds you well. I’m reaching out to introduce you to Visexa AI, where we specialize in creating tailored AI solutions designed to enhance auditing processes.\n",
      "\n",
      "In today’s fast-paced environment, AI-driven automation can significantly reduce the time spent on repetitive tasks, freeing your team to focus on higher-level analysis. Additionally, our intelligent optimization strategies can lead to substantial cost savings, aligning perfectly with your goal of enhancing operational efficiency.\n",
      "\n",
      "We believe that even your existing solutions can benefit from custom AI enhancements, providing further value to your workflows.\n",
      "\n",
      "I’d like to invite you to a discussion with our CEO to explore how we can work together to leverage AI in your operations. Please let me know a convenient time for you.\n",
      "\n",
      "Looking forward to your reply.\n",
      "\n",
      "Best regards,\n",
      "\n",
      "John Smith  \n",
      "Sales Head  \n",
      "johnsmith@visexa.com  \n",
      "\n",
      "\n",
      "Dear Audit Head,\n",
      "\n",
      "I hope this message finds you well. At Visexa AI, we’re passionate about unlocking the potential of AI to enhance business operations, and I believe your team at Plymouth Rock Insurance could greatly benefit.\n",
      "\n",
      "Imagine saving countless hours through AI automation while significantly reducing costs through intelligent optimization—these are not just possibilities; they can be your reality. Our custom AI solutions are designed to seamlessly enhance your existing processes, providing tailored support that aligns with your specific needs.\n",
      "\n",
      "I would love to arrange a discussion between you and our CEO to explore the exciting opportunities AI can create for your auditing practices. \n",
      "\n",
      "Looking forward to the possibility of collaborating!\n",
      "\n",
      "Best,  \n",
      "John Smith  \n",
      "Sales Head  \n",
      "johnsmith@visexa.com  \n",
      "\n",
      "\n",
      "Dear Audit Head,\n",
      "\n",
      "I hope this message finds you well. At Visexa AI, we understand the unique challenges faced in the auditing sector, especially when it comes to efficiency and cost management. \n",
      "\n",
      "Our bespoke AI solutions can significantly reduce time spent on manual processes through automation, enabling your team to focus on strategic initiatives. Additionally, we have a proven track record of optimizing existing solutions to cut costs while enhancing their performance.\n",
      "\n",
      "I would love to arrange a conversation for you with our CEO to explore tailored AI opportunities that could benefit Plymouth Rock Insurance. Please let me know your availability, and we can set up a time that works for you.\n",
      "\n",
      "Looking forward to your response.\n",
      "\n",
      "Best regards,  \n",
      "John Smith  \n",
      "Sales Head  \n",
      "johnsmith@visexa.com  \n",
      "\n",
      "\n"
     ]
    }
   ],
   "source": [
    "results = await asyncio.gather(\n",
    "        Runner.run(sales_agent1, message),\n",
    "        Runner.run(sales_agent2, message),\n",
    "        Runner.run(sales_agent3, message),\n",
    "    )\n",
    "\n",
    "outputs = [result.final_output for result in results]\n",
    "\n",
    "for output in outputs:\n",
    "    print(output + \"\\n\\n\")\n"
   ]
  },
  {
   "cell_type": "code",
   "execution_count": 68,
   "metadata": {},
   "outputs": [],
   "source": [
    "sales_delegate_message = \"\"\" \n",
    "You are an expert email response rate analyst and sales strategist.\n",
    "\n",
    "Your task is to evaluate three cold email drafts and select the ONE that is most likely to get a response from the target recipient.\n",
    "\n",
    "Evaluation Criteria:\n",
    "- Personalization and relevance to the target's industry/role\n",
    "- Clarity of value proposition (time/money savings)\n",
    "- Professional tone and credibility\n",
    "- Call-to-action effectiveness\n",
    "- Overall persuasiveness and engagement\n",
    "\n",
    "Instructions:\n",
    "1. Carefully analyze each email draft provided\n",
    "2. Consider the target recipient's likely pain points and priorities\n",
    "3. Evaluate which email best balances professionalism with engagement\n",
    "4. Select the single email that would be most effective at getting a response\n",
    "5. Output ONLY the body of the selected email (no subject line, no explanations)\n",
    "\n",
    "Important: You must choose only ONE email. Do not combine elements from multiple emails. Do not provide explanations for your choice. Simply output the complete body of the email you believe will get the highest response rate.\n",
    "\"\"\""
   ]
  },
  {
   "cell_type": "code",
   "execution_count": 69,
   "metadata": {},
   "outputs": [],
   "source": [
    "Sales_delegate_agent = Agent(name=\"Sales Delegate Agent\", instructions=sales_delegate_message, model=\"gpt-4o-mini\")\n"
   ]
  },
  {
   "cell_type": "code",
   "execution_count": 70,
   "metadata": {},
   "outputs": [
    {
     "name": "stdout",
     "output_type": "stream",
     "text": [
      "Best email: \n",
      " Dear Audit Head,\n",
      "\n",
      "I hope this message finds you well! \n",
      "\n",
      "At Visexa AI, we understand that efficiency and cost-effectiveness are crucial in the auditing world. Imagine saving valuable time through AI automation, allowing your team to focus on high-impact tasks. Our intelligent optimization strategies can significantly reduce costs while enhancing your existing solutions with custom AI enhancements tailored specifically for your needs.\n",
      "\n",
      "I would love to discuss how we can transform your operations. Would you be open to a conversation with our CEO to explore these exciting opportunities?\n",
      "\n",
      "Looking forward to hearing from you!\n",
      "\n",
      "Best,  \n",
      "John Smith  \n",
      "Sales Head  \n",
      "johnsmith@visexa.com\n"
     ]
    }
   ],
   "source": [
    "with trace(\"Sales Delegation for email\"):\n",
    "    results = await asyncio.gather(\n",
    "        Runner.run(sales_agent1, message),\n",
    "        Runner.run(sales_agent2, message),\n",
    "        Runner.run(sales_agent3, message),\n",
    "    )\n",
    "\n",
    "    outputs = [result.final_output for result in results]\n",
    "\n",
    "    emails = \"Cold sales emails : \\n\\n\".join(outputs)\n",
    "    \n",
    "    best_email = await Runner.run(Sales_delegate_agent, emails)\n",
    "\n",
    "    print(f\"Best email: \\n {best_email.final_output}\")"
   ]
  },
  {
   "cell_type": "code",
   "execution_count": 71,
   "metadata": {},
   "outputs": [],
   "source": [
    "@function_tool\n",
    "def send_email(body: str):\n",
    "    \"\"\" Send out an email with the given body to all sales prospects \"\"\"\n",
    "    sg = sendgrid.SendGridAPIClient(api_key=os.environ.get('SENDGRID_API_KEY'))\n",
    "    from_email = Email(\"sukhdeepnarulasingh@gmail.com\")  # Change to your verified sender\n",
    "    to_email = To(\"sukhdeepsingh1612@gmail.com\")  # Change to your recipient\n",
    "    content = Content(\"text/plain\", body)\n",
    "    mail = Mail(from_email, to_email, \"Sales email\", content).get()\n",
    "    response = sg.client.mail.send.post(request_body=mail)\n",
    "    return {\"status\": \"success\"}"
   ]
  },
  {
   "cell_type": "code",
   "execution_count": 72,
   "metadata": {},
   "outputs": [
    {
     "data": {
      "text/plain": [
       "FunctionTool(name='send_email', description='Send out an email with the given body to all sales prospects', params_json_schema={'properties': {'body': {'title': 'Body', 'type': 'string'}}, 'required': ['body'], 'title': 'send_email_args', 'type': 'object', 'additionalProperties': False}, on_invoke_tool=<function function_tool.<locals>._create_function_tool.<locals>._on_invoke_tool at 0x105df67a0>, strict_json_schema=True, is_enabled=True)"
      ]
     },
     "execution_count": 72,
     "metadata": {},
     "output_type": "execute_result"
    }
   ],
   "source": [
    "send_email"
   ]
  },
  {
   "cell_type": "code",
   "execution_count": 73,
   "metadata": {},
   "outputs": [
    {
     "data": {
      "text/plain": [
       "[FunctionTool(name='sales_agent1', description=' Write a cold email addressed to Dear Audit Head at Plymouth Rock Insurance in Auditing from  Sales Head (johnsmith@visexa.com) that would get a response. Only give the body of the email., no subject line.\\n\\nKey points to cover:\\n- Time savings through AI automation\\n- Cost reduction via intelligent optimization\\n- Custom AI enhancement of existing solutions\\n\\nKeep it short and actionable. Invite for CEO discussion on AI opportunities. ', params_json_schema={'properties': {'input': {'title': 'Input', 'type': 'string'}}, 'required': ['input'], 'title': 'sales_agent1_args', 'type': 'object', 'additionalProperties': False}, on_invoke_tool=<function function_tool.<locals>._create_function_tool.<locals>._on_invoke_tool at 0x131549e40>, strict_json_schema=True, is_enabled=True),\n",
       " FunctionTool(name='sales_agent2', description=' Write a cold email addressed to Dear Audit Head at Plymouth Rock Insurance in Auditing from  Sales Head (johnsmith@visexa.com) that would get a response. Only give the body of the email., no subject line.\\n\\nKey points to cover:\\n- Time savings through AI automation\\n- Cost reduction via intelligent optimization\\n- Custom AI enhancement of existing solutions\\n\\nKeep it short and actionable. Invite for CEO discussion on AI opportunities. ', params_json_schema={'properties': {'input': {'title': 'Input', 'type': 'string'}}, 'required': ['input'], 'title': 'sales_agent2_args', 'type': 'object', 'additionalProperties': False}, on_invoke_tool=<function function_tool.<locals>._create_function_tool.<locals>._on_invoke_tool at 0x1315499e0>, strict_json_schema=True, is_enabled=True),\n",
       " FunctionTool(name='sales_agent3', description=' Write a cold email addressed to Dear Audit Head at Plymouth Rock Insurance in Auditing from  Sales Head (johnsmith@visexa.com) that would get a response. Only give the body of the email., no subject line.\\n\\nKey points to cover:\\n- Time savings through AI automation\\n- Cost reduction via intelligent optimization\\n- Custom AI enhancement of existing solutions\\n\\nKeep it short and actionable. Invite for CEO discussion on AI opportunities. ', params_json_schema={'properties': {'input': {'title': 'Input', 'type': 'string'}}, 'required': ['input'], 'title': 'sales_agent3_args', 'type': 'object', 'additionalProperties': False}, on_invoke_tool=<function function_tool.<locals>._create_function_tool.<locals>._on_invoke_tool at 0x1319fa8e0>, strict_json_schema=True, is_enabled=True),\n",
       " FunctionTool(name='send_email', description='Send out an email with the given body to all sales prospects', params_json_schema={'properties': {'body': {'title': 'Body', 'type': 'string'}}, 'required': ['body'], 'title': 'send_email_args', 'type': 'object', 'additionalProperties': False}, on_invoke_tool=<function function_tool.<locals>._create_function_tool.<locals>._on_invoke_tool at 0x105df67a0>, strict_json_schema=True, is_enabled=True)]"
      ]
     },
     "execution_count": 73,
     "metadata": {},
     "output_type": "execute_result"
    }
   ],
   "source": [
    "tool1 = sales_agent1.as_tool(tool_name=\"sales_agent1\", tool_description=message)\n",
    "tool2 = sales_agent2.as_tool(tool_name=\"sales_agent2\", tool_description=message)\n",
    "tool3 = sales_agent3.as_tool(tool_name=\"sales_agent3\", tool_description=message)\n",
    "\n",
    "tools = [tool1, tool2, tool3, send_email]\n",
    "tools "
   ]
  },
  {
   "cell_type": "code",
   "execution_count": 74,
   "metadata": {},
   "outputs": [],
   "source": [
    "sales_manager_message = \"\"\" You are a sales delegation specialist agent with access to the following tools:\n",
    "sales_agent1, sales_agent2, and sales_agent3: Each generates a cold email draft in a different style for a given business prospect.\n",
    "send_email: Sends an email to the intended recipient.\n",
    "\n",
    "Your workflow is as follows:\n",
    "Use the sales_agent1, sales_agent2, and sales_agent3 tools to generate three distinct cold email drafts for the provided business prospect and context.\n",
    "Carefully evaluate all three drafts using the following criteria:\n",
    "Personalization and relevance to the recipient’s industry/role\n",
    "Clarity of value proposition (time/money savings)\n",
    "Professional tone and credibility\n",
    "Call-to-action effectiveness\n",
    "Overall persuasiveness and engagement\n",
    "Select the single email draft that is most likely to get a response.\n",
    "Use the send_email tool to send the selected email to the recipient.\n",
    "Output only the status/result of the email sending action.\n",
    "\n",
    "Important:\n",
    "Do not combine elements from multiple drafts.\n",
    "Do not provide explanations for your choice.\n",
    "Only send the body of the selected email.\n",
    "Your goal is to maximize the likelihood of receiving a response from the business prospect by choosing and sending the most effective email draft. \"\"\""
   ]
  },
  {
   "cell_type": "code",
   "execution_count": 75,
   "metadata": {},
   "outputs": [],
   "source": [
    "sales_manager_agent = Agent(name=\"Sales Manager Agent\", instructions=sales_manager_message, tools=tools, model=\"gpt-4o-mini\")\n",
    "\n"
   ]
  },
  {
   "cell_type": "code",
   "execution_count": 76,
   "metadata": {},
   "outputs": [],
   "source": [
    "subject_writer_message = \"\"\" You are a subject line specialist for cold emails.\n",
    "Given the body of a cold email, your task is to craft a subject line that is concise, engaging, and tailored to the recipient’s industry.\n",
    "The subject line must be a single question, not too long or too short, and designed to prompt a response. \"\"\"\n",
    "\n",
    "subject_writer_agent = Agent(name=\"Subject Writer Agent\", instructions=subject_writer_message, model=\"gpt-4o-mini\")\n",
    "subect_writer_tool = subject_writer_agent.as_tool(tool_name=\"subject_writer\", tool_description=subject_writer_message)\n"
   ]
  },
  {
   "cell_type": "code",
   "execution_count": 77,
   "metadata": {},
   "outputs": [],
   "source": [
    "html_writer_message = \"\"\" You are an expert HTML email designer.\n",
    "Your task is to take the body of a cold email and convert it into a beautifully formatted HTML email. The resulting email should:\n",
    "Be visually appealing and professional\n",
    "Use clean, modern styling with appropriate fonts, spacing, and colors\n",
    "Include clear sections for greeting, body, and signature\n",
    "Be easy to read on both desktop and mobile devices (responsive design)\n",
    "Preserve the original message and intent, but enhance its presentation\n",
    "Output only the complete HTML code for the email, ready to be sent. Do not include any explanations or plain text—just the HTML. \"\"\"\n",
    "\n",
    "html_writer_agent = Agent(name=\"HTML Writer Agent\", instructions=html_writer_message, model=\"gpt-4o-mini\")\n",
    "html_writer_tool = html_writer_agent.as_tool(tool_name=\"html_writer\", tool_description=html_writer_message)\n"
   ]
  },
  {
   "cell_type": "code",
   "execution_count": 78,
   "metadata": {},
   "outputs": [],
   "source": [
    "@function_tool\n",
    "def send_html_email(subject: str, html_body: str) -> Dict[str, str]:\n",
    "    \"\"\" Send out an email with the given subject and HTML body to all sales prospects \"\"\"\n",
    "    sg = sendgrid.SendGridAPIClient(api_key=os.environ.get('SENDGRID_API_KEY'))\n",
    "    from_email = Email(\"sukhdeepnarulasingh@gmail.com\")  # Change to your verified sender\n",
    "    to_email = To(\"sukhdeepsingh1612@gmail.com\")  # Change to your recipient\n",
    "    content = Content(\"text/html\", html_body)\n",
    "    mail = Mail(from_email, to_email, subject, content).get()\n",
    "    response = sg.client.mail.send.post(request_body=mail)\n",
    "    return {\"status\": \"success\"}"
   ]
  },
  {
   "cell_type": "code",
   "execution_count": 79,
   "metadata": {},
   "outputs": [],
   "source": [
    "email_tools = [subect_writer_tool, html_writer_tool, send_html_email]"
   ]
  },
  {
   "cell_type": "code",
   "execution_count": 80,
   "metadata": {},
   "outputs": [],
   "source": [
    "email_formatter_message = \"\"\" You receive the body of an email to be sent. You are an email formatting and delivery specialist agent with access to the following tools:\n",
    "subject_writer: Generates a concise, engaging, and industry-specific subject line (as a question) for a given email body.\n",
    "html_writer: Converts the plain text body of an email into a beautifully formatted, professional HTML email.\n",
    "send_html_email: Sends an email with the specified subject and HTML body to the intended recipient.\n",
    "Your workflow is as follows:\n",
    "Use the subject_writer tool to generate an effective subject line for the provided email body.\n",
    "Use the html_writer tool to convert the email body into a visually appealing, well-structured HTML email.\n",
    "Use the send_html_email tool to send the final email, using the generated subject and HTML content.\n",
    "Output only the status or result of the email sending action.\n",
    "Important:\n",
    "Do not include any explanations or intermediate outputs.\n",
    "Only send the final, formatted HTML email with the generated subject line.\n",
    "Your goal is to ensure the recipient receives a beautifully formatted, professional email with a compelling subject line, maximizing the chances of engagement and response.\"\"\"\n",
    "\n",
    "emailer_agent = Agent(name=\"Emailer Agent\", instructions=email_formatter_message, tools=email_tools, model=\"gpt-4o-mini\",handoff_description=\"Convert an email to HTML and send it\")\n"
   ]
  },
  {
   "cell_type": "code",
   "execution_count": 81,
   "metadata": {},
   "outputs": [],
   "source": [
    "manager_tools = [tool1, tool2, tool3]\n",
    "handoffs = [emailer_agent]"
   ]
  },
  {
   "cell_type": "code",
   "execution_count": 82,
   "metadata": {},
   "outputs": [],
   "source": [
    "sales_manager_message = \"\"\"You are a sales delegation specialist agent with access to the following tools and handoffs:\n",
    "sales_agent1, sales_agent2, and sales_agent3: Each generates a cold email draft in a different style for a given business prospect.\n",
    "emailer_agent:(this is a handoff) Formats the selected email into a beautiful HTML format and sends it to the intended recipient.\n",
    "Your workflow is as follows:\n",
    "Use the sales_agent1, sales_agent2, and sales_agent3 tools to generate three distinct cold email drafts for the provided business prospect and context.\n",
    "Carefully evaluate all three drafts using the following criteria:\n",
    "Personalization and relevance to the recipient’s industry/role\n",
    "Clarity of value proposition (time/money savings)\n",
    "Professional tone and credibility\n",
    "Call-to-action effectiveness\n",
    "Overall persuasiveness and engagement\n",
    "Select the single email draft that is most likely to get a response.\n",
    "Hand off the selected email to the emailer_agent to format it beautifully and send it to the recipient.\n",
    "Output only the status/result of the email sending action.\n",
    "Important:\n",
    "Do not combine elements from multiple drafts.\n",
    "Do not provide explanations for your choice.\n",
    "Only hand off the body of the selected email to the emailer agent.\n",
    "Your goal is to maximize the likelihood of receiving a response from the business prospect by choosing the most effective email draft and ensuring it is professionally formatted and sent. \"\"\"\n",
    "\n",
    "sales_manager = Agent(name=\"Sales Manager Agent\", instructions=sales_manager_message, tools=manager_tools ,handoffs=handoffs, model=\"gpt-4o-mini\")"
   ]
  },
  {
   "cell_type": "code",
   "execution_count": 83,
   "metadata": {},
   "outputs": [
    {
     "data": {
      "text/plain": [
       "' Write a cold email addressed to Dear Audit Head at Plymouth Rock Insurance in Auditing from  Sales Head (johnsmith@visexa.com) that would get a response. Only give the body of the email., no subject line.\\n\\nKey points to cover:\\n- Time savings through AI automation\\n- Cost reduction via intelligent optimization\\n- Custom AI enhancement of existing solutions\\n\\nKeep it short and actionable. Invite for CEO discussion on AI opportunities. '"
      ]
     },
     "execution_count": 83,
     "metadata": {},
     "output_type": "execute_result"
    }
   ],
   "source": [
    "message"
   ]
  },
  {
   "cell_type": "code",
   "execution_count": 84,
   "metadata": {},
   "outputs": [],
   "source": [
    "with trace(\"Automated SDR for Visexa AI\"):\n",
    "    result = await Runner.run(sales_manager, message)"
   ]
  },
  {
   "cell_type": "code",
   "execution_count": null,
   "metadata": {},
   "outputs": [],
   "source": []
  }
 ],
 "metadata": {
  "kernelspec": {
   "display_name": "Python 3",
   "language": "python",
   "name": "python3"
  },
  "language_info": {
   "codemirror_mode": {
    "name": "ipython",
    "version": 3
   },
   "file_extension": ".py",
   "mimetype": "text/x-python",
   "name": "python",
   "nbconvert_exporter": "python",
   "pygments_lexer": "ipython3",
   "version": "3.11.13"
  }
 },
 "nbformat": 4,
 "nbformat_minor": 2
}
